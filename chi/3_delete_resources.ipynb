{
 "cells": [
  {
   "cell_type": "markdown",
   "metadata": {},
   "source": [
    "## Delete resources\n",
    "\n",
    "When we are finished, we must delete\n",
    "\n",
    "-   The VM server instance\n",
    "\n",
    "to make the resources available to other users."
   ]
  },
  {
   "cell_type": "markdown",
   "metadata": {},
   "source": [
    "We will execute the cells in this notebook inside the Chameleon Jupyter environment.\n",
    "Run the following cell, and make sure the correct project is selected."
   ]
  },
  {
   "cell_type": "code",
   "execution_count": null,
   "metadata": {
    "tags": []
   },
   "outputs": [],
   "source": [
    "# run in Chameleon Jupyter environment\n",
    "from chi import server, context\n",
    "import chi, os, time, datetime\n",
    "\n",
    "context.version = \"1.0\" \n",
    "context.choose_project()\n",
    "context.choose_site(default=\"CHI@TACC\")"
   ]
  },
  {
   "cell_type": "markdown",
   "metadata": {},
   "source": [
    "## Get active server\n",
    "\n",
    "When deleting a server, `get_active_server` helps you pick the server yo want to delete.\n",
    "if you know the exact server_name, it returns that server. if you provide project_name, it returns all servers starting with that prefix.\n",
    "- if one match -> returns it.\n",
    "- Multiple matches -> lists them so you can pick.\n",
    "- No matches -> tells you nothing was found."
   ]
  },
  {
   "cell_type": "code",
   "execution_count": null,
   "metadata": {},
   "outputs": [],
   "source": [
    "server_name = None\n",
    "project_name = \"UC-NODE\""
   ]
  },
  {
   "cell_type": "code",
   "execution_count": null,
   "metadata": {
    "tags": []
   },
   "outputs": [],
   "source": [
    "def get_active_server(server_name=None, project_name=None):\n",
    "    all_servers = server.list_servers()\n",
    "\n",
    "    if server_name:\n",
    "        match = next((s for s in all_servers if s.name == server_name), None)\n",
    "        if not match:\n",
    "            raise ValueError(f\"no server found with name '{server_name}'\")\n",
    "        return match\n",
    "\n",
    "    matching = [s for s in all_servers if s.name.startswith(project_name)]\n",
    "\n",
    "    if not matching:\n",
    "        raise ValueError(f\"no server found starting with '{project_name}'\")\n",
    "\n",
    "    if len(matching) > 1:\n",
    "        print(\"multiple servers found:\")\n",
    "        for s in matching:\n",
    "            print(f\" - {s.name} (status: {s.status})\")\n",
    "        raise ValueError(\"set 'server_name' to select the correct server.\")\n",
    "\n",
    "    return matching[0]\n"
   ]
  },
  {
   "cell_type": "code",
   "execution_count": null,
   "metadata": {},
   "outputs": [],
   "source": [
    "s = get_active_server(server_name, project_name)"
   ]
  },
  {
   "cell_type": "markdown",
   "metadata": {},
   "source": [
    "### Run the following cell to delete your server"
   ]
  },
  {
   "cell_type": "code",
   "execution_count": null,
   "metadata": {},
   "outputs": [],
   "source": [
    "s.delete()"
   ]
  }
 ],
 "metadata": {
  "kernelspec": {
   "display_name": "Python 3 (ipykernel)",
   "language": "python",
   "name": "python3"
  },
  "language_info": {
   "codemirror_mode": {
    "name": "ipython",
    "version": 3
   },
   "file_extension": ".py",
   "mimetype": "text/x-python",
   "name": "python",
   "nbconvert_exporter": "python",
   "pygments_lexer": "ipython3",
   "version": "3.10.9"
  }
 },
 "nbformat": 4,
 "nbformat_minor": 4
}
